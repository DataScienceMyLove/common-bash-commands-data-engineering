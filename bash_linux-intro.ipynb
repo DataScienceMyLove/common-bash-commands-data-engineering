{
 "cells": [
  {
   "cell_type": "markdown",
   "metadata": {},
   "source": [
    "## Key Terms"
   ]
  },
  {
   "cell_type": "markdown",
   "metadata": {},
   "source": [
    "**Shebang** - The first line of a script that indicates the interpreter to use for executing the script.\n",
    "\n",
    " Example: **#!/usr/bin/env python3**\n",
    " "
   ]
  },
  {
   "cell_type": "code",
   "execution_count": null,
   "metadata": {
    "vscode": {
     "languageId": "shellscript"
    }
   },
   "outputs": [],
   "source": [
    "#!/bin/bash\n",
    "echo \"Hello World\""
   ]
  },
  {
   "cell_type": "markdown",
   "metadata": {},
   "source": [
    "**Chmod** - A Linux command to change the permissions/access mode of files or directories. Used to make scripts executable."
   ]
  },
  {
   "cell_type": "code",
   "execution_count": null,
   "metadata": {
    "vscode": {
     "languageId": "shellscript"
    }
   },
   "outputs": [],
   "source": [
    "chmod +x myscript.sh"
   ]
  },
  {
   "cell_type": "markdown",
   "metadata": {},
   "source": [
    "**Alias** - A shortcut that can be defined in bash to replace a longer command or series of commands. Configured in .bashrc."
   ]
  },
  {
   "cell_type": "code",
   "execution_count": null,
   "metadata": {
    "vscode": {
     "languageId": "shellscript"
    }
   },
   "outputs": [],
   "source": [
    "alias lm='ls -al | more'"
   ]
  },
  {
   "cell_type": "markdown",
   "metadata": {},
   "source": [
    "**Export** - Makes a variable available across shell sessions and to child processes. Used to expose things like API keys.\n"
   ]
  },
  {
   "cell_type": "code",
   "execution_count": null,
   "metadata": {
    "vscode": {
     "languageId": "shellscript"
    }
   },
   "outputs": [],
   "source": [
    "export DB_PASSWORD='mysecurepass"
   ]
  },
  {
   "cell_type": "markdown",
   "metadata": {},
   "source": [
    "**Find** - A Linux command to search for files/folders in real-time based on various criteria. More exhaustive than locate."
   ]
  },
  {
   "cell_type": "code",
   "execution_count": null,
   "metadata": {
    "vscode": {
     "languageId": "shellscript"
    }
   },
   "outputs": [],
   "source": [
    "find . -name \"*.py\""
   ]
  },
  {
   "cell_type": "markdown",
   "metadata": {},
   "source": [
    "- **Linux shell** - The command-line interface to the Linux operating system. Provides an environment to automate tasks and execute programs.\n",
    "\n",
    "- **Bash script** - A script written in the Bash shell language, usually saved in a file ending in .sh. Consists of Bash commands.\n",
    "\n",
    "- **Shebang** - The first line of a Bash script starting with #!, indicates the interpreter to execute the script. e.g. #!/bin/bash\n",
    "\n",
    "- **Environment variable** - A variable available globally to shells and processes. Used to configure shell behavior.\n",
    "\n",
    "- **Alias** - A shortcut that references a command. Used to reduce typing of commonly used commands."
   ]
  },
  {
   "cell_type": "code",
   "execution_count": null,
   "metadata": {
    "vscode": {
     "languageId": "shellscript"
    }
   },
   "outputs": [],
   "source": [
    "# Shebang indicating Bash interpreter\n",
    "#!/bin/bash\n",
    "\n",
    "# Print hello world \n",
    "echo \"Hello World\"\n",
    "\n",
    "# Set an environment variable\n",
    "export MY_VAR=\"some value\"\n",
    "\n",
    "# Print the variable\n",
    "echo $MY_VAR\n",
    "\n",
    "# Define an alias\n",
    "alias ll=\"ls -l\"\n",
    "\n",
    "# Use the alias \n",
    "ll"
   ]
  },
  {
   "cell_type": "markdown",
   "metadata": {},
   "source": [
    "### Installing & Accessing Linux"
   ]
  },
  {
   "cell_type": "markdown",
   "metadata": {},
   "source": [
    "![](Screenshot-44.png)"
   ]
  },
  {
   "cell_type": "markdown",
   "metadata": {},
   "source": [
    "**VM**: \n",
    "- Cloud\n",
    "- Desktop\n",
    "\n",
    "**Container**: \n",
    "\n",
    "- *Docker* is a software which allows to deply containers on your desktop machine.\n",
    "\n",
    "- Use something like *Kubernetes* and use that inside of a Cloud Platform: This is also very common as well, is that people will go through and use maybe an Amazon Kubernetes instance or a Google Kubernetes instance in the Cloud somewhere and actually deploy containers that way."
   ]
  },
  {
   "cell_type": "markdown",
   "metadata": {},
   "source": []
  }
 ],
 "metadata": {
  "language_info": {
   "name": "python"
  }
 },
 "nbformat": 4,
 "nbformat_minor": 2
}
