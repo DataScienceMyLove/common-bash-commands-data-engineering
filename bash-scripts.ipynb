{
 "cells": [
  {
   "cell_type": "code",
   "execution_count": null,
   "id": "af1855d6",
   "metadata": {},
   "outputs": [],
   "source": []
  },
  {
   "cell_type": "markdown",
   "id": "71682110",
   "metadata": {},
   "source": [
    "## Executable scripts from anywhere, chmod +x and shebang line"
   ]
  },
  {
   "cell_type": "markdown",
   "id": "699f9389",
   "metadata": {},
   "source": [
    "![Screenshot-46](Screenshot-46.png)"
   ]
  },
  {
   "cell_type": "markdown",
   "id": "a2fe23aa",
   "metadata": {},
   "source": [
    "![Screenshot-47](Screenshot-47.png)"
   ]
  },
  {
   "cell_type": "markdown",
   "id": "e8a7a0c4",
   "metadata": {},
   "source": [
    "![Screenshot-49](Screenshot-49.png)"
   ]
  },
  {
   "cell_type": "markdown",
   "id": "8145a12b",
   "metadata": {},
   "source": [
    "![Screenshot-51](Screenshot-51.png)"
   ]
  },
  {
   "cell_type": "markdown",
   "id": "c88c070c",
   "metadata": {},
   "source": [
    "![Screenshot-52](Screenshot-52.png)"
   ]
  },
  {
   "cell_type": "markdown",
   "id": "02e0da3c",
   "metadata": {},
   "source": [
    "![Screenshot-53](Screenshot-53.png)"
   ]
  },
  {
   "cell_type": "markdown",
   "id": "f0986f7c",
   "metadata": {},
   "source": [
    "![Screenshot-54](Screenshot-54.png)"
   ]
  },
  {
   "cell_type": "markdown",
   "id": "b5f66249",
   "metadata": {},
   "source": [
    "![Screenshot-55](Screenshot-55.png)"
   ]
  }
 ],
 "metadata": {
  "language_info": {
   "name": "python"
  }
 },
 "nbformat": 4,
 "nbformat_minor": 5
}
