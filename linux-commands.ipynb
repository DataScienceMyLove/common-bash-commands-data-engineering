{
 "cells": [
  {
   "cell_type": "markdown",
   "id": "371da5b1",
   "metadata": {},
   "source": [
    "### Working directory and Python interpreter location"
   ]
  },
  {
   "cell_type": "code",
   "execution_count": 2,
   "id": "4e29f0e9",
   "metadata": {},
   "outputs": [
    {
     "name": "stdout",
     "output_type": "stream",
     "text": [
      "/home/codespace/.python/current/bin/python3\n"
     ]
    }
   ],
   "source": [
    "import sys\n",
    "\n",
    "print(sys.executable)"
   ]
  },
  {
   "cell_type": "code",
   "execution_count": 1,
   "id": "40003806",
   "metadata": {},
   "outputs": [
    {
     "name": "stdout",
     "output_type": "stream",
     "text": [
      "/workspaces/common-bash-commands-data-engineering\n"
     ]
    }
   ],
   "source": [
    "import os\n",
    "\n",
    "print(os.getcwd())"
   ]
  },
  {
   "cell_type": "markdown",
   "id": "267d8662",
   "metadata": {},
   "source": [
    "## Common Linux Commands"
   ]
  },
  {
   "cell_type": "markdown",
   "id": "13f1717c",
   "metadata": {},
   "source": [
    "- ### **Time & Date**:\n",
    "\n"
   ]
  },
  {
   "cell_type": "code",
   "execution_count": null,
   "id": "11b76c97",
   "metadata": {
    "vscode": {
     "languageId": "shellscript"
    }
   },
   "outputs": [],
   "source": [
    "# calendrier command\n",
    "cal\n",
    "# date of the day command\n",
    "date"
   ]
  },
  {
   "cell_type": "markdown",
   "id": "f4462db4",
   "metadata": {
    "vscode": {
     "languageId": "shellscript"
    }
   },
   "source": [
    "- ### **Bash commands location**\n",
    "\n",
    "For having an overview about all the bash commands of the system"
   ]
  },
  {
   "cell_type": "code",
   "execution_count": null,
   "id": "03e874c5",
   "metadata": {
    "vscode": {
     "languageId": "shellscript"
    }
   },
   "outputs": [],
   "source": [
    "# change directory towards bin path\n",
    "cd /usr/bin\n",
    "# lists files of a directory\n",
    "ls "
   ]
  },
  {
   "cell_type": "markdown",
   "id": "efb1e6df",
   "metadata": {},
   "source": [
    "- ### **Disk Usage or File Size**"
   ]
  },
  {
   "cell_type": "code",
   "execution_count": null,
   "id": "874c0d30",
   "metadata": {
    "vscode": {
     "languageId": "shellscript"
    }
   },
   "outputs": [],
   "source": [
    "# disk free human readable\n",
    "df -h\n",
    "# disk usage with summary and human-readable options\n",
    "du -sh *"
   ]
  },
  {
   "cell_type": "markdown",
   "id": "c0aa4303",
   "metadata": {},
   "source": [
    "- ### **System Performance**"
   ]
  },
  {
   "cell_type": "code",
   "execution_count": null,
   "id": "f2f317f3",
   "metadata": {
    "vscode": {
     "languageId": "shellscript"
    }
   },
   "outputs": [],
   "source": [
    "# System performance command\n",
    "top"
   ]
  },
  {
   "cell_type": "markdown",
   "id": "fb5ee1c2",
   "metadata": {},
   "source": [
    "- ### **Using the shell by exploring**"
   ]
  },
  {
   "cell_type": "code",
   "execution_count": null,
   "id": "dc3b2e84",
   "metadata": {
    "vscode": {
     "languageId": "shellscript"
    }
   },
   "outputs": [],
   "source": [
    "# Listing with options: Linux permissions, all files, human readable size files\n",
    "ls -lah\n",
    "# Print working directory\n",
    "pwd\n",
    "# Change directory\n",
    "cd /tmp\n",
    "cd ~\n",
    "# Location of a program\n",
    "which python"
   ]
  },
  {
   "cell_type": "markdown",
   "id": "5c36e662",
   "metadata": {},
   "source": [
    "- ### **Viewing files, Counting lines**"
   ]
  },
  {
   "cell_type": "code",
   "execution_count": null,
   "id": "758f1f80",
   "metadata": {
    "vscode": {
     "languageId": "shellscript"
    }
   },
   "outputs": [],
   "source": [
    "# Display the file content\n",
    "cat README.md\n",
    "less README.md\n",
    "# Count the number of line of the file\n",
    "wc -l README.md"
   ]
  },
  {
   "cell_type": "markdown",
   "id": "474cb396",
   "metadata": {},
   "source": [
    "- ### **Modifying files & Directories**"
   ]
  },
  {
   "cell_type": "code",
   "execution_count": null,
   "id": "827646eb",
   "metadata": {
    "vscode": {
     "languageId": "shellscript"
    }
   },
   "outputs": [],
   "source": [
    "# New file\n",
    "touch new_file.txt\n",
    "# New directory\n",
    "mkdir newDir\n",
    "# New directory with children\n",
    "mkdir -p Dir/child/GdChild\n",
    "# Remove a directory and its child repertories\n",
    "rm -rf Dir/\n"
   ]
  },
  {
   "cell_type": "markdown",
   "id": "8d2bf257",
   "metadata": {},
   "source": [
    "- ### **Moving/Renaming files**"
   ]
  },
  {
   "cell_type": "code",
   "execution_count": null,
   "id": "35ea5ede",
   "metadata": {
    "vscode": {
     "languageId": "shellscript"
    }
   },
   "outputs": [],
   "source": [
    "# Cut paste\n",
    "mv file_moved.txt targetDir/\n",
    "# Rename a file and keep its content\n",
    "mv new_file.txt new_file_renamed.txt"
   ]
  },
  {
   "cell_type": "markdown",
   "id": "fe12a385",
   "metadata": {},
   "source": [
    "- ### **Processes**"
   ]
  },
  {
   "cell_type": "code",
   "execution_count": null,
   "id": "14b4df88",
   "metadata": {
    "vscode": {
     "languageId": "shellscript"
    }
   },
   "outputs": [],
   "source": [
    "# viewing processes\n",
    "ps \n",
    "# all processes with option full format related to Python\n",
    "ps -ef | grep python"
   ]
  },
  {
   "cell_type": "markdown",
   "id": "8d89bb12",
   "metadata": {},
   "source": [
    "- ### **Foreground and Background processes**\n",
    "\n",
    "- SOme shortcuts to know :\n",
    "    - Ctrl+D: End Of File EOF\n",
    "    - Ctrl+C: KIll a process\n",
    "    - Ctrl+Z: Stop a process"
   ]
  },
  {
   "cell_type": "code",
   "execution_count": null,
   "id": "715d6443",
   "metadata": {
    "vscode": {
     "languageId": "shellscript"
    }
   },
   "outputs": [],
   "source": [
    "# Launch an executable script in foreground\n",
    "./script.sh\n",
    "# Ctrl+Z for stopping the script\n",
    "# Listing the processes\n",
    "jobs\n",
    "# Launch a stopped script in foreground with its index\n",
    "fg 1\n",
    "# Ctrl+Z\n",
    "# Launch a script in background\n",
    "./script.sh &\n",
    "# you cannot use the Ctrl shortcuts to kill,stop the process\n",
    "# Pass the script in foreground\n",
    "fg 1\n",
    "# You can now use Ctrl+Z for stopping the script\n"
   ]
  }
 ],
 "metadata": {
  "kernelspec": {
   "display_name": "Python 3",
   "language": "python",
   "name": "python3"
  },
  "language_info": {
   "codemirror_mode": {
    "name": "ipython",
    "version": 3
   },
   "file_extension": ".py",
   "mimetype": "text/x-python",
   "name": "python",
   "nbconvert_exporter": "python",
   "pygments_lexer": "ipython3",
   "version": "3.12.1"
  }
 },
 "nbformat": 4,
 "nbformat_minor": 5
}
