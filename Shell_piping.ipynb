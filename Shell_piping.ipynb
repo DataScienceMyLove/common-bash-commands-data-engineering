{
 "cells": [
  {
   "cell_type": "markdown",
   "id": "2ad253f4",
   "metadata": {},
   "source": [
    "### **Shell piping**"
   ]
  },
  {
   "cell_type": "markdown",
   "id": "43a0a1d1",
   "metadata": {},
   "source": [
    "#### **Key Terms**\n",
    "\n",
    "**Piping** - Connecting the stdout of one command to the stdin of another command using the pipe | symbol."
   ]
  },
  {
   "cell_type": "code",
   "execution_count": null,
   "id": "d0cab114",
   "metadata": {
    "vscode": {
     "languageId": "shellscript"
    }
   },
   "outputs": [],
   "source": [
    "# List files and pipe to wc command\n",
    "ls -l | wc -l"
   ]
  },
  {
   "cell_type": "markdown",
   "id": "8b1e79ec",
   "metadata": {},
   "source": [
    "**Redirection** - Redirecting command output to a file instead of stdout using >."
   ]
  },
  {
   "cell_type": "code",
   "execution_count": null,
   "id": "01d54d14",
   "metadata": {
    "vscode": {
     "languageId": "shellscript"
    }
   },
   "outputs": [],
   "source": [
    "# Redirect output to file\n",
    "ls -l > output.txt\n",
    "# Redirect error to file\n",
    "ls -l /nonexistent 2> error.txt\n",
    "# Redirect both output and error to file\n",
    "ls -l /nonexistent > output.txt 2>&1\n",
    "# Append output to file\n",
    "ls -l >> output.txt\n",
    "# Append error to file\n",
    "ls -l /nonexistent 2>> error.txt\n",
    "# Append both output and error to file\n",
    "ls -l /nonexistent >> output.txt 2>&1\n",
    "# Redirect output to /dev/null\n",
    "ls -l > /dev/null\n"
   ]
  },
  {
   "cell_type": "markdown",
   "id": "51c043ed",
   "metadata": {},
   "source": [
    "**Conditional Execution** - Chain commands using && to execute next command only if first succeeds."
   ]
  },
  {
   "cell_type": "code",
   "execution_count": null,
   "id": "089c3e07",
   "metadata": {
    "vscode": {
     "languageId": "shellscript"
    }
   },
   "outputs": [],
   "source": [
    "#\n",
    "ls file && echo \"File exists\"\n",
    "\n",
    "ls file || echo \"File does not exist\"\n",
    "\n",
    "# Check if a file exists\n",
    "if [ -e file ]; then\n",
    "  echo \"File exists\"\n",
    "else\n",
    "  echo \"File does not exist\"\n",
    "fi \n",
    "# Check if a file is a regular file\n",
    "if [ -f file ]; then\n",
    "  echo \"File is a regular file\"\n",
    "else\n",
    "  echo \"File is not a regular file\"\n",
    "fi\n",
    "# Check if a file is a directory\n",
    "if [ -d file ]; then\n",
    "  echo \"File is a directory\"\n",
    "else\n",
    "  echo \"File is not a directory\"\n",
    "fi\n",
    "# Check if a file is executable\n",
    "if [ -x file ]; then\n",
    "  echo \"File is executable\"\n",
    "else\n",
    "  echo \"File is not executable\"\n",
    "fi\n",
    "# Check if a directory exists\n",
    "if [ -d directory ]; then\n",
    "  echo \"Directory exists\"\n",
    "else\n",
    "  echo \"Directory does not exist\"\n",
    "fi\n",
    "# Check if a file is readable\n",
    "if [ -r file ]; then\n",
    "  echo \"File is readable\"\n",
    "else\n",
    "  echo \"File is not readable\"\n",
    "fi\n"
   ]
  },
  {
   "cell_type": "markdown",
   "id": "4f3e5c38",
   "metadata": {},
   "source": [
    "**Append** - Append output to a file instead of overwriting using >>.\n",
    "\n"
   ]
  },
  {
   "cell_type": "code",
   "execution_count": null,
   "id": "27d1662a",
   "metadata": {
    "vscode": {
     "languageId": "shellscript"
    }
   },
   "outputs": [],
   "source": [
    "# Append output to file\n",
    "ls -l >> output.txt"
   ]
  },
  {
   "cell_type": "markdown",
   "id": "d73f2130",
   "metadata": {},
   "source": [
    "**Control Characters** - Modify command line with Ctrl+letter shortcuts like Ctrl+A start of line."
   ]
  },
  {
   "cell_type": "markdown",
   "id": "831678de",
   "metadata": {},
   "source": [
    "![](Screenshot-57.png)"
   ]
  },
  {
   "cell_type": "markdown",
   "id": "d3b082da",
   "metadata": {},
   "source": [
    "**Python Example**\n",
    "\n",
    "Here is an example piping in Python using subprocess module:"
   ]
  },
  {
   "cell_type": "code",
   "execution_count": 1,
   "id": "3f29c639",
   "metadata": {},
   "outputs": [
    {
     "name": "stdout",
     "output_type": "stream",
     "text": [
      "13\n",
      "\n"
     ]
    }
   ],
   "source": [
    "import subprocess\n",
    "\n",
    "# Call Bash pipeline and store result\n",
    "result = subprocess.run(\"ls -l | wc -l\", shell=True, text=True, capture_output=True)  \n",
    "\n",
    "print(result.stdout)"
   ]
  },
  {
   "cell_type": "code",
   "execution_count": null,
   "id": "ef9d0b04",
   "metadata": {},
   "outputs": [],
   "source": []
  }
 ],
 "metadata": {
  "kernelspec": {
   "display_name": "base",
   "language": "python",
   "name": "python3"
  },
  "language_info": {
   "codemirror_mode": {
    "name": "ipython",
    "version": 3
   },
   "file_extension": ".py",
   "mimetype": "text/x-python",
   "name": "python",
   "nbconvert_exporter": "python",
   "pygments_lexer": "ipython3",
   "version": "3.12.9"
  }
 },
 "nbformat": 4,
 "nbformat_minor": 5
}
